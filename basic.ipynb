{
 "cells": [
  {
   "cell_type": "code",
   "execution_count": 1,
   "id": "28126150-8754-42e1-8c40-e990d031ce94",
   "metadata": {},
   "outputs": [
    {
     "name": "stdout",
     "output_type": "stream",
     "text": [
      "pi=3.1415926\n"
     ]
    }
   ],
   "source": [
    "PI=3.1415926\n",
    "print(\"pi={0}\".format(PI))"
   ]
  },
  {
   "cell_type": "code",
   "execution_count": 2,
   "id": "c4eaf938-a739-421b-811a-054262f9148a",
   "metadata": {},
   "outputs": [
    {
     "name": "stdout",
     "output_type": "stream",
     "text": [
      "_____3.1415926______\n",
      "3.1415926***********\n",
      "&&&&&&&&&&&3.1415926\n"
     ]
    }
   ],
   "source": [
    "print(\"{0:_^20}\".format(PI))#居中\n",
    "print(\"{0:*<20}\".format(PI))#左对齐\n",
    "print(\"{0:&>20}\".format(PI))#右对齐"
   ]
  },
  {
   "cell_type": "code",
   "execution_count": 3,
   "id": "9e8e1321-189d-43b9-823b-9dea57a6328c",
   "metadata": {},
   "outputs": [
    {
     "name": "stdout",
     "output_type": "stream",
     "text": [
      "100,000\n",
      "*************100,000\n"
     ]
    }
   ],
   "source": [
    "print(\"{0:,}\".format(100000))#千分位分割\n",
    "print(\"{0:*>20,}\".format(100000)) #分割加填充"
   ]
  },
  {
   "cell_type": "code",
   "execution_count": 4,
   "id": "004d2979-c88f-4719-b6a7-6ea681adb895",
   "metadata": {},
   "outputs": [
    {
     "name": "stdout",
     "output_type": "stream",
     "text": [
      "3.14\n",
      "314.2%\n",
      "3.14e+00\n"
     ]
    }
   ],
   "source": [
    "print(\"{0:.2f}\".format(PI))#两位小数\n",
    "print(\"{0:.1%}\".format(PI))#百分号一位小数\n",
    "print(\"{0:.2e}\".format(PI))#科学计数法2位小数"
   ]
  },
  {
   "cell_type": "code",
   "execution_count": 5,
   "id": "778a8be4-374e-49ac-b3b9-86f4bbc6a8d6",
   "metadata": {},
   "outputs": [
    {
     "data": {
      "text/plain": [
       "'二进制101000000 十进制320 八进制320 十六进制140'"
      ]
     },
     "execution_count": 5,
     "metadata": {},
     "output_type": "execute_result"
    }
   ],
   "source": [
    "\"二进制{0:b} 十进制{0:d} 八进制{0:d} 十六进制{0:x}\".format(320)"
   ]
  },
  {
   "cell_type": "code",
   "execution_count": 6,
   "id": "8f99904b-10ab-44e4-8f15-5ca757cde370",
   "metadata": {},
   "outputs": [
    {
     "data": {
      "text/plain": [
       "True"
      ]
     },
     "execution_count": 6,
     "metadata": {},
     "output_type": "execute_result"
    }
   ],
   "source": [
    "16==0b10000==0o20==0x10"
   ]
  },
  {
   "cell_type": "code",
   "execution_count": 7,
   "id": "363fe9a7-3c71-4faf-8fb7-07440a0963f7",
   "metadata": {},
   "outputs": [
    {
     "name": "stdout",
     "output_type": "stream",
     "text": [
      "0b10000 0o20 0x10\n",
      "False\n"
     ]
    }
   ],
   "source": [
    "a=bin(16)\n",
    "b=oct(16)\n",
    "c=hex(16)\n",
    "print(a,b,c)\n",
    "print(a==b==c)"
   ]
  },
  {
   "cell_type": "code",
   "execution_count": 9,
   "id": "2681bb07-9c32-483e-b64d-85539dfe031b",
   "metadata": {},
   "outputs": [
    {
     "name": "stdout",
     "output_type": "stream",
     "text": [
      "True\n"
     ]
    }
   ],
   "source": [
    "d=int(a,2)\n",
    "e=int(b,8)\n",
    "f=int(c,16)\n",
    "print(d==e==f)"
   ]
  },
  {
   "cell_type": "code",
   "execution_count": 23,
   "id": "1244a44c-54de-4d2f-899c-838485edfbca",
   "metadata": {},
   "outputs": [
    {
     "name": "stdout",
     "output_type": "stream",
     "text": [
      "0.7\n",
      "0.7\n"
     ]
    }
   ],
   "source": [
    "a=0.3+0.4\n",
    "print(a)\n",
    "a=round(a,1)#保留一位小数提高精度，round不添加参数默认为四舍五入到整数\n",
    "a==0.7\n",
    "print(a)"
   ]
  },
  {
   "cell_type": "code",
   "execution_count": 21,
   "id": "496581c7-6580-421d-b1ea-31baef18577a",
   "metadata": {},
   "outputs": [
    {
     "name": "stdout",
     "output_type": "stream",
     "text": [
      "2.6\n",
      "2\n",
      "5\n",
      "5.0\n",
      "2\n",
      "(1, 2)\n"
     ]
    }
   ],
   "source": [
    "a=3+4j#复数\n",
    "print(13/5)\n",
    "print(13//5)\n",
    "print(abs(-5))\n",
    "print(abs(a))\n",
    "print(pow(2,5,3))#2**5%3\n",
    "print(divmod(5,3))"
   ]
  },
  {
   "cell_type": "code",
   "execution_count": 24,
   "id": "3cedade5-01b9-408b-b67f-44428e517200",
   "metadata": {},
   "outputs": [
    {
     "name": "stdout",
     "output_type": "stream",
     "text": [
      "6\n",
      "1\n",
      "21\n"
     ]
    }
   ],
   "source": [
    "a=[1,2,3,4,5,6]\n",
    "print(max(a))#用于序列当中\n",
    "print(min(a))\n",
    "print(sum(a))"
   ]
  },
  {
   "cell_type": "code",
   "execution_count": 25,
   "id": "504f4bc5-a7f6-4295-9d2a-61678001b301",
   "metadata": {},
   "outputs": [
    {
     "name": "stdout",
     "output_type": "stream",
     "text": [
      "7.38905609893065\n",
      "3.0\n",
      "11.0\n"
     ]
    }
   ],
   "source": [
    "import math\n",
    "print(math.exp(2))\n",
    "print(math.log2(8))\n",
    "print(math.sqrt(121))"
   ]
  },
  {
   "cell_type": "code",
   "execution_count": 26,
   "id": "34ff396e-2374-4bb2-818a-285ae77900ce",
   "metadata": {},
   "outputs": [
    {
     "name": "stdout",
     "output_type": "stream",
     "text": [
      "3.5\n",
      "3.5\n",
      "1.707825127659933\n"
     ]
    }
   ],
   "source": [
    "import numpy as np\n",
    "print(np.mean(a))#均值\n",
    "print(np.median(a))#中位数\n",
    "print(np.std(a))#标准差"
   ]
  },
  {
   "cell_type": "code",
   "execution_count": null,
   "id": "63ca871e-51e6-492f-a043-9cd4a9d48c85",
   "metadata": {},
   "outputs": [],
   "source": []
  }
 ],
 "metadata": {
  "kernelspec": {
   "display_name": "Python 3 (ipykernel)",
   "language": "python",
   "name": "python3"
  },
  "language_info": {
   "codemirror_mode": {
    "name": "ipython",
    "version": 3
   },
   "file_extension": ".py",
   "mimetype": "text/x-python",
   "name": "python",
   "nbconvert_exporter": "python",
   "pygments_lexer": "ipython3",
   "version": "3.11.7"
  }
 },
 "nbformat": 4,
 "nbformat_minor": 5
}
