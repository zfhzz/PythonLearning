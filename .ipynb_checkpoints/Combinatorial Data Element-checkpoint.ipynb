{
 "cells": [
  {
   "cell_type": "code",
   "execution_count": 3,
   "id": "0997e09a-24e8-4bb8-b1e9-abbc8bff5eff",
   "metadata": {},
   "outputs": [
    {
     "name": "stdout",
     "output_type": "stream",
     "text": [
      "['a', 'b', 'c']\n",
      "[1, 2, 3]\n"
     ]
    }
   ],
   "source": [
    "s=\"abc\"\n",
    "a=list(s)\n",
    "print(a)\n",
    "print(list((1,2,3)))"
   ]
  },
  {
   "cell_type": "code",
   "execution_count": 33,
   "id": "b3968633-8e37-4f84-8941-2cf86c90b341",
   "metadata": {},
   "outputs": [
    {
     "name": "stdout",
     "output_type": "stream",
     "text": [
      "1 2 3 4 5 \n",
      "5\n",
      "[5, 4, 3, 2, 1]\n",
      "[5, 3, 1]\n",
      "[1, 2, 3, 4, 5, 6]\n",
      "[1, 2, 3, 4, 5, 6, 8, 9]\n",
      "[1, 1, 2, 3, 4, 5, 6, 8, 9]\n",
      "[1, 1, 3, 4, 5, 6, 8, 9]\n",
      "[3, 4, 5, 6, 8, 9]\n",
      "5\n",
      "[3, 4, 5, 6, 8, 10]\n"
     ]
    }
   ],
   "source": [
    "nums=[1,2,3,4,5]\n",
    "for i in nums:\n",
    "    print(i,end=\" \")\n",
    "print()\n",
    "print(len(nums))\n",
    "print(nums[-1:-len(nums)-1:-1])\n",
    "print(nums[-1:-len(nums)-1:-2])\n",
    "nums.append(6)\n",
    "print(nums)\n",
    "nums.extend([8,9])\n",
    "print(nums)\n",
    "nums.insert(1,1)\n",
    "print(nums)\n",
    "nums.pop(2)\n",
    "print(nums)\n",
    "nums.remove(1)\n",
    "while 1 in nums:\n",
    "    nums.remove(1)\n",
    "print(nums)\n",
    "print(nums.index(9))\n",
    "nums[5]=10\n",
    "print(nums)"
   ]
  },
  {
   "cell_type": "code",
   "execution_count": 32,
   "id": "aa255873-d2be-459e-a961-51ef96d25a53",
   "metadata": {},
   "outputs": [
    {
     "name": "stdout",
     "output_type": "stream",
     "text": [
      "0 1 2 3 4 5 \n",
      "0 2 4 "
     ]
    }
   ],
   "source": [
    "for i in range(6):\n",
    "    print(i,end=\" \")\n",
    "print()\n",
    "for i in range(0,6,2):\n",
    "    print(i,end=\" \")"
   ]
  },
  {
   "cell_type": "code",
   "execution_count": 34,
   "id": "6e7c389c-7964-4e7e-8901-7d7818cee62e",
   "metadata": {},
   "outputs": [
    {
     "name": "stdout",
     "output_type": "stream",
     "text": [
      "[0, 1, 2, 3, 4]\n",
      "[0, 1, 2, 3, 4, 5]\n"
     ]
    }
   ],
   "source": [
    "nums=[0,1,2,3,4,5]#浅拷贝\n",
    "nums_2=nums.copy()#列表不可直接复制\n",
    "nums.pop()\n",
    "print(nums)\n",
    "print(nums_2)"
   ]
  },
  {
   "cell_type": "code",
   "execution_count": null,
   "id": "bf9e9524-8c30-427f-99fa-22ac7358d692",
   "metadata": {},
   "outputs": [],
   "source": []
  }
 ],
 "metadata": {
  "kernelspec": {
   "display_name": "Python 3 (ipykernel)",
   "language": "python",
   "name": "python3"
  },
  "language_info": {
   "codemirror_mode": {
    "name": "ipython",
    "version": 3
   },
   "file_extension": ".py",
   "mimetype": "text/x-python",
   "name": "python",
   "nbconvert_exporter": "python",
   "pygments_lexer": "ipython3",
   "version": "3.11.7"
  }
 },
 "nbformat": 4,
 "nbformat_minor": 5
}
