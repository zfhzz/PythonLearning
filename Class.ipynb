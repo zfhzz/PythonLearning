{
 "cells": [
  {
   "cell_type": "code",
   "execution_count": 3,
   "id": "1d809b8b-18c2-4d6d-8fe9-429653075e20",
   "metadata": {},
   "outputs": [
    {
     "name": "stdout",
     "output_type": "stream",
     "text": [
      "Loser\n",
      "Loser is jumping\n"
     ]
    }
   ],
   "source": [
    "class Cat():\n",
    "    def __init__(self,name):\n",
    "        self.name=name\n",
    "    def jump(self):\n",
    "        print(self.name+\" is jumping\")\n",
    "\n",
    "my_cat=Cat(\"Loser\")\n",
    "print(my_cat.name)\n",
    "my_cat.jump()"
   ]
  },
  {
   "cell_type": "code",
   "execution_count": 11,
   "id": "eb942bcc-700c-4438-8c8d-ad50bc8cd748",
   "metadata": {},
   "outputs": [
    {
     "name": "stdout",
     "output_type": "stream",
     "text": [
      "品牌:奔驰 型号:C 出厂年份:1992\n"
     ]
    }
   ],
   "source": [
    "class Car():\n",
    "    def __init__(self,brand,model,year,mileage=0):\n",
    "        self.brand=brand\n",
    "        self.model=model\n",
    "        self.year=year\n",
    "        self.mileage=mileage\n",
    "\n",
    "    def get_main_information(self):\n",
    "        print(\"品牌:{} 型号:{} 出厂年份:{}\".format(self.brand,self.model,self.year))\n",
    "\n",
    "    def getMileage(self):\n",
    "        print(self.mileage)\n",
    "\n",
    "a=Car(\"奔驰\",\"C\",\"1992\")\n",
    "a.get_main_information()"
   ]
  },
  {
   "cell_type": "code",
   "execution_count": 15,
   "id": "cf2a1ab7-e900-4709-a957-05de85ff752c",
   "metadata": {},
   "outputs": [
    {
     "name": "stdout",
     "output_type": "stream",
     "text": [
      "品牌:奔驰 型号:C 出厂年份:1992 电量6\n",
      "1000\n"
     ]
    }
   ],
   "source": [
    "class ElectricCar(Car):\n",
    "    def __init__(self,brand,model,year,bettery_size):\n",
    "        super().__init__(brand,model,year)\n",
    "        self.bettery_size=bettery_size\n",
    "\n",
    "    def get_main_information(self):#函数重写\n",
    "        print(\"品牌:{} 型号:{} 出厂年份:{} 电量{}\".format(self.brand,self.model,self.year,self.bettery_size))\n",
    "b=ElectricCar(\"奔驰\",\"C\",\"1992\",6)\n",
    "b.get_main_information()\n",
    "b.mileage=1000\n",
    "b.getMileage()"
   ]
  },
  {
   "cell_type": "code",
   "execution_count": null,
   "id": "af1ce284-3151-45d2-99db-cbdb73af9d86",
   "metadata": {},
   "outputs": [],
   "source": []
  }
 ],
 "metadata": {
  "kernelspec": {
   "display_name": "Python 3 (ipykernel)",
   "language": "python",
   "name": "python3"
  },
  "language_info": {
   "codemirror_mode": {
    "name": "ipython",
    "version": 3
   },
   "file_extension": ".py",
   "mimetype": "text/x-python",
   "name": "python",
   "nbconvert_exporter": "python",
   "pygments_lexer": "ipython3",
   "version": "3.11.7"
  }
 },
 "nbformat": 4,
 "nbformat_minor": 5
}
