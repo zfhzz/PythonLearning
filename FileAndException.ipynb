{
 "cells": [
  {
   "cell_type": "code",
   "execution_count": 3,
   "id": "72862e2f-94ff-4a37-8d6d-2c0ad9409210",
   "metadata": {},
   "outputs": [
    {
     "name": "stdout",
     "output_type": "stream",
     "text": [
      "aaa\n",
      "aaa\n"
     ]
    }
   ],
   "source": [
    "with open (\"test.txt\" , \"r\" ,encoding = \"gbk\") as f:#文件不存在，则报错\n",
    "    text = f.read()\n",
    "    print(text)\n",
    "\n",
    "with open (\"test.txt\"  ,encoding = \"gbk\") as f:#r可以省略\n",
    "    text = f.read()\n",
    "    print(text)"
   ]
  },
  {
   "cell_type": "markdown",
   "id": "6c19b250-2bc6-4988-a14f-819fb35442eb",
   "metadata": {},
   "source": [
    "w 覆盖写,不存在则创建\n",
    "\n",
    "x 创建写,不存在则报错\n",
    "\n",
    "a 追加写,不存在则创建,存在则在文件后追加\n",
    "\n",
    "b 二进制文件模式,需要搭配rb wb ab使用\n",
    "\n",
    "t 文本文件模式,与上同理rt wt at但一般写为 r w a\n",
    "\n",
    "\\+ 与r w x a配合,增加读写功能\n"
   ]
  },
  {
   "cell_type": "markdown",
   "id": "66d80710-4a5c-4fc1-9a4c-58a3c6d2a61f",
   "metadata": {},
   "source": [
    "万国码 utf-8\n",
    "\n",
    "中文编码 gbk\n"
   ]
  },
  {
   "cell_type": "code",
   "execution_count": 13,
   "id": "3d118c13-dde2-4cba-b12c-63ce74fda49e",
   "metadata": {},
   "outputs": [
    {
     "name": "stdout",
     "output_type": "stream",
     "text": [
      "出师表\n",
      "先帝创业未半而中道崩殂，今天下三分，益州疲弊，此诚危急存亡之秋也。\n",
      "然侍卫之臣不懈于内，忠志之士忘身于外者，盖追先帝之殊遇，欲报之于陛下也。\n",
      "诚宜开张圣听，以光先帝遗德，恢弘志士之气，不宜妄自菲薄，引喻失义，以塞忠谏之路也。"
     ]
    }
   ],
   "source": [
    "with open (\"chinese.txt\"  ,encoding = \"utf-8\") as f:\n",
    "    while 1:\n",
    "        text=f.readline()#逐行读取\n",
    "        if text:\n",
    "            print(text,end=\"\")\n",
    "        else:\n",
    "            break"
   ]
  },
  {
   "cell_type": "code",
   "execution_count": 16,
   "id": "8df05e50-7844-4c3e-9a45-ad7e7612b6f2",
   "metadata": {},
   "outputs": [
    {
     "name": "stdout",
     "output_type": "stream",
     "text": [
      "出师表\n",
      "先帝创业未半而中道崩殂，今天下三分，益州疲弊，此诚危急存亡之秋也。\n",
      "然侍卫之臣不懈于内，忠志之士忘身于外者，盖追先帝之殊遇，欲报之于陛下也。\n",
      "诚宜开张圣听，以光先帝遗德，恢弘志士之气，不宜妄自菲薄，引喻失义，以塞忠谏之路也。"
     ]
    }
   ],
   "source": [
    "with open (\"chinese.txt\"  ,encoding = \"utf-8\") as f:\n",
    "    texts=f.readlines()\n",
    "    for i in texts:\n",
    "        print(i,end=\"\")"
   ]
  },
  {
   "cell_type": "code",
   "execution_count": 19,
   "id": "cd4212d2-05a0-452c-a0a8-56617969a587",
   "metadata": {},
   "outputs": [
    {
     "name": "stdout",
     "output_type": "stream",
     "text": [
      "出师表\n",
      "#先帝创业未半而中道崩殂，今天下三分，益州疲弊，此诚危急存亡之秋也。\n",
      "#然侍卫之臣不懈于内，忠志之士忘身于外者，盖追先帝之殊遇，欲报之于陛下也。\n",
      "#诚宜开张圣听，以光先帝遗德，恢弘志士之气，不宜妄自菲薄，引喻失义，以塞忠谏之路也。#"
     ]
    }
   ],
   "source": [
    "with open (\"chinese.txt\"  ,encoding = \"utf-8\") as f:\n",
    "    for text in f:#f本身可以迭代\n",
    "        print(text,end=\"#\")"
   ]
  },
  {
   "cell_type": "code",
   "execution_count": 23,
   "id": "969aabbd-c6ab-4bac-96d8-decbbc1299eb",
   "metadata": {},
   "outputs": [],
   "source": [
    "ls=[\"a\\n\",\"b\\n\",\"c\\n\"]\n",
    "with open (\"write.txt\",\"w\",encoding = \"utf-8\") as f:\n",
    "    f.writelines(ls)"
   ]
  },
  {
   "cell_type": "code",
   "execution_count": 26,
   "id": "2ea909b6-bcf8-4079-a1ff-c36a7c522fab",
   "metadata": {},
   "outputs": [],
   "source": [
    "with open (\"write.txt\",\"w\",encoding = \"utf-8\") as f:\n",
    "    f.write(\"蜀道难\\n\")\n",
    "    f.write(\"蜀道之难,难于上青天\\n\")\n",
    "    f.write(\"蚕丛及鱼凫,开国何茫然\\n\")"
   ]
  },
  {
   "cell_type": "code",
   "execution_count": 27,
   "id": "e3e2d14f-3627-4f50-8e1b-68f5b41fb104",
   "metadata": {},
   "outputs": [],
   "source": [
    " with open (\"write.txt\",\"r+\",encoding = \"utf-8\") as f:\n",
    "     f.seek(0,2) #(0:开始，1：当前位置 2：结尾)\n",
    "     text=[\"尔来四万八千岁,不与秦塞通人烟\\n\",\"西当太白有鸟道，可以横绝峨眉巅\\n\"]\n",
    "     f.writelines(text)"
   ]
  },
  {
   "cell_type": "markdown",
   "id": "21b0cd6e-e612-49b7-89fb-c5e56b2076f8",
   "metadata": {},
   "source": [
    "w+\n",
    "读入文件的那一刻就会把内容全部清空\n",
    "\n",
    "a+\n",
    "文件不存在则创建,存在则在末尾加入内容"
   ]
  },
  {
   "cell_type": "code",
   "execution_count": 29,
   "id": "f77e4780-6174-41f8-8f9d-8a13c887ef69",
   "metadata": {},
   "outputs": [
    {
     "name": "stdout",
     "output_type": "stream",
     "text": [
      "\n",
      "尔来四万八千岁,不与秦塞通人烟\n",
      "西当太白有鸟道，可以横绝峨眉巅\n",
      "\n"
     ]
    }
   ],
   "source": [
    " with open (\"write.txt\",\"w+\",encoding = \"utf-8\") as f:\n",
    "     text=[\"尔来四万八千岁,不与秦塞通人烟\\n\",\"西当太白有鸟道，可以横绝峨眉巅\\n\"]\n",
    "     f.writelines(text)\n",
    "     print(f.read())\n",
    "     f.seek(0,0)\n",
    "     print(f.read())"
   ]
  },
  {
   "cell_type": "code",
   "execution_count": 32,
   "id": "1d755805-da8e-4e6a-be98-fa80ec04ac2b",
   "metadata": {},
   "outputs": [
    {
     "name": "stdout",
     "output_type": "stream",
     "text": [
      "\n",
      "尔来四万八千岁,不与秦塞通人烟\n",
      "西当太白有鸟道，可以横绝峨眉巅\n",
      "地崩山摧壮士死,然后天梯石寨相勾连\n",
      "地崩山摧壮士死,然后天梯石寨相勾连\n",
      "\n"
     ]
    }
   ],
   "source": [
    " with open (\"write.txt\",\"a+\",encoding = \"utf-8\") as f:\n",
    "     f.write(\"地崩山摧壮士死,然后天梯石寨相勾连\\n\")\n",
    "     print(f.read())\n",
    "     f.seek(0,0)\n",
    "     print(f.read())"
   ]
  },
  {
   "cell_type": "code",
   "execution_count": null,
   "id": "d807ca8e-23e0-4a1b-aebb-b9286b0645b8",
   "metadata": {},
   "outputs": [],
   "source": []
  }
 ],
 "metadata": {
  "kernelspec": {
   "display_name": "Python 3 (ipykernel)",
   "language": "python",
   "name": "python3"
  },
  "language_info": {
   "codemirror_mode": {
    "name": "ipython",
    "version": 3
   },
   "file_extension": ".py",
   "mimetype": "text/x-python",
   "name": "python",
   "nbconvert_exporter": "python",
   "pygments_lexer": "ipython3",
   "version": "3.11.7"
  }
 },
 "nbformat": 4,
 "nbformat_minor": 5
}
