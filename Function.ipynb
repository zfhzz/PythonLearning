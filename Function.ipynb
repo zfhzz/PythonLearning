{
 "cells": [
  {
   "cell_type": "code",
   "execution_count": 1,
   "id": "4eb34964-5b39-4505-859e-edc912cabf4d",
   "metadata": {},
   "outputs": [
    {
     "name": "stdout",
     "output_type": "stream",
     "text": [
      "120\n"
     ]
    }
   ],
   "source": [
    "def factoria(n):\n",
    "    res=1\n",
    "    for i in range(1,n+1):\n",
    "        res*=i\n",
    "    return res\n",
    "\n",
    "print(factoria(5))"
   ]
  },
  {
   "cell_type": "code",
   "execution_count": 6,
   "id": "1bce099b-e5e0-4e91-a76f-50ea317618b1",
   "metadata": {},
   "outputs": [
    {
     "name": "stdout",
     "output_type": "stream",
     "text": [
      "3 1 2\n",
      "1 3 2\n"
     ]
    }
   ],
   "source": [
    "def function(x,y,z):#位置参数\n",
    "    print(x,y,z)\n",
    "\n",
    "function(y=1,z=2,x=3)\n",
    "function(1,z=2,y=3)#位置参数必须在关键字参数之前"
   ]
  },
  {
   "cell_type": "code",
   "execution_count": 8,
   "id": "6ab84e72-ff86-4524-a287-7bf347fc7b9f",
   "metadata": {},
   "outputs": [
    {
     "name": "stdout",
     "output_type": "stream",
     "text": [
      "zfh 18 male\n",
      "zfh 18 famale\n"
     ]
    }
   ],
   "source": [
    "def register(name,age,sex=\"male\"):\n",
    "    print(name,age,sex)\n",
    "\n",
    "register(\"zfh\",18)\n",
    "register(\"zfh\",18,\"famale\")"
   ]
  },
  {
   "cell_type": "code",
   "execution_count": 10,
   "id": "f1f6fc8f-7db0-4445-b379-0432ff6b85fd",
   "metadata": {},
   "outputs": [
    {
     "name": "stdout",
     "output_type": "stream",
     "text": [
      "[1]\n",
      "[1, 1]\n"
     ]
    }
   ],
   "source": [
    "def function(ls=[]):#默认参数设置应该为不可变类型\n",
    "    ls.append(1)\n",
    "    print(ls)\n",
    "\n",
    "function()\n",
    "function()"
   ]
  },
  {
   "cell_type": "code",
   "execution_count": 13,
   "id": "3c58bca6-c1e7-423b-8251-d884562bcfdd",
   "metadata": {},
   "outputs": [
    {
     "name": "stdout",
     "output_type": "stream",
     "text": [
      "z h\n",
      "z f h\n"
     ]
    }
   ],
   "source": [
    "def name(first_name,last_name,middle_name=None):\n",
    "    if middle_name:\n",
    "        return first_name+middle_name+last_name\n",
    "    else:\n",
    "        return first_name+last_name\n",
    "print(\"z\",\"h\")\n",
    "print(\"z\",\"f\",\"h\")"
   ]
  },
  {
   "cell_type": "code",
   "execution_count": 16,
   "id": "f76b6a3f-a3af-43c5-928f-81ba3a451522",
   "metadata": {},
   "outputs": [
    {
     "name": "stdout",
     "output_type": "stream",
     "text": [
      "1 2 3\n",
      "(4, 5, 6)\n",
      "1 2 3\n",
      "(4, 5, 6)\n"
     ]
    }
   ],
   "source": [
    "def foo(x,y,z,*args):#多余的参数打包给args\n",
    "    print(x,y,z)\n",
    "    print(args)\n",
    "\n",
    "foo(1,2,3,4,5,6)\n",
    "foo(1,2,3,*[4,5,6])"
   ]
  },
  {
   "cell_type": "code",
   "execution_count": 17,
   "id": "371c016f-83e7-4e9a-8444-5efd530a241d",
   "metadata": {},
   "outputs": [
    {
     "name": "stdout",
     "output_type": "stream",
     "text": [
      "1 2 3\n",
      "{'a': 4, 'b': 5, 'c': 6}\n"
     ]
    }
   ],
   "source": [
    "def foo(x,y,z,**kwargs):\n",
    "    print(x,y,z)\n",
    "    print(kwargs)\n",
    "\n",
    "foo(1,2,3,a=4,b=5,c=6)"
   ]
  },
  {
   "cell_type": "code",
   "execution_count": 18,
   "id": "ba995cad-b036-42e3-9789-5facb8ecd6ee",
   "metadata": {},
   "outputs": [
    {
     "data": {
      "text/plain": [
       "(1, 1, 1, 1)"
      ]
     },
     "execution_count": 18,
     "metadata": {},
     "output_type": "execute_result"
    }
   ],
   "source": [
    "#多个返回值是以元组的形式返回的\n",
    "def foo(x=1):\n",
    "    return 1,x,x**3,x**3\n",
    "\n",
    "foo()"
   ]
  },
  {
   "cell_type": "code",
   "execution_count": null,
   "id": "74f3b69c-4a0d-45ef-80f4-5acb03bea8b3",
   "metadata": {},
   "outputs": [],
   "source": []
  }
 ],
 "metadata": {
  "kernelspec": {
   "display_name": "Python 3 (ipykernel)",
   "language": "python",
   "name": "python3"
  },
  "language_info": {
   "codemirror_mode": {
    "name": "ipython",
    "version": 3
   },
   "file_extension": ".py",
   "mimetype": "text/x-python",
   "name": "python",
   "nbconvert_exporter": "python",
   "pygments_lexer": "ipython3",
   "version": "3.11.7"
  }
 },
 "nbformat": 4,
 "nbformat_minor": 5
}
