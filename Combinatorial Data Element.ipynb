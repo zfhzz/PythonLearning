{
 "cells": [
  {
   "cell_type": "code",
   "execution_count": 3,
   "id": "0997e09a-24e8-4bb8-b1e9-abbc8bff5eff",
   "metadata": {},
   "outputs": [
    {
     "name": "stdout",
     "output_type": "stream",
     "text": [
      "['a', 'b', 'c']\n",
      "[1, 2, 3]\n"
     ]
    }
   ],
   "source": [
    "s=\"abc\"\n",
    "a=list(s)\n",
    "print(a)\n",
    "print(list((1,2,3)))"
   ]
  },
  {
   "cell_type": "code",
   "execution_count": 33,
   "id": "b3968633-8e37-4f84-8941-2cf86c90b341",
   "metadata": {},
   "outputs": [
    {
     "name": "stdout",
     "output_type": "stream",
     "text": [
      "1 2 3 4 5 \n",
      "5\n",
      "[5, 4, 3, 2, 1]\n",
      "[5, 3, 1]\n",
      "[1, 2, 3, 4, 5, 6]\n",
      "[1, 2, 3, 4, 5, 6, 8, 9]\n",
      "[1, 1, 2, 3, 4, 5, 6, 8, 9]\n",
      "[1, 1, 3, 4, 5, 6, 8, 9]\n",
      "[3, 4, 5, 6, 8, 9]\n",
      "5\n",
      "[3, 4, 5, 6, 8, 10]\n"
     ]
    }
   ],
   "source": [
    "nums=[1,2,3,4,5]\n",
    "for i in nums:\n",
    "    print(i,end=\" \")\n",
    "print()\n",
    "print(len(nums))\n",
    "print(nums[-1:-len(nums)-1:-1])\n",
    "print(nums[-1:-len(nums)-1:-2])\n",
    "nums.append(6)\n",
    "print(nums)\n",
    "nums.extend([8,9])\n",
    "print(nums)\n",
    "nums.insert(1,1)\n",
    "print(nums)\n",
    "nums.pop(2)\n",
    "print(nums)\n",
    "nums.remove(1)\n",
    "while 1 in nums:\n",
    "    nums.remove(1)\n",
    "print(nums)\n",
    "print(nums.index(9))\n",
    "nums[5]=10\n",
    "print(nums)"
   ]
  },
  {
   "cell_type": "code",
   "execution_count": 32,
   "id": "aa255873-d2be-459e-a961-51ef96d25a53",
   "metadata": {},
   "outputs": [
    {
     "name": "stdout",
     "output_type": "stream",
     "text": [
      "0 1 2 3 4 5 \n",
      "0 2 4 "
     ]
    }
   ],
   "source": [
    "for i in range(6):\n",
    "    print(i,end=\" \")\n",
    "print()\n",
    "for i in range(0,6,2):\n",
    "    print(i,end=\" \")"
   ]
  },
  {
   "cell_type": "code",
   "execution_count": 43,
   "id": "6e7c389c-7964-4e7e-8901-7d7818cee62e",
   "metadata": {},
   "outputs": [
    {
     "name": "stdout",
     "output_type": "stream",
     "text": [
      "[0, 1, 2, 3, 4]\n",
      "[0, 1, 2, 3, 4, 5]\n",
      "[1, 2, 3, 4, 100]\n",
      "[92, 6, 5, 5, 3, 2]\n",
      "[3, 2, 5, 92, 6, 5]\n",
      "[5, 6, 92, 5, 2, 3]\n",
      "[3, 2, 5, 92, 6, 5]\n"
     ]
    }
   ],
   "source": [
    "nums=[0,1,2,3,4,5]#浅拷贝\n",
    "nums_2=nums.copy()#列表不可直接复制\n",
    "nums.pop()\n",
    "print(nums)\n",
    "print(nums_2)\n",
    "nums[0]=100\n",
    "nums.sort()\n",
    "print(nums)\n",
    "a=[5,6,92,5,2,3]\n",
    "print(sorted(a,reverse=True))\n",
    "print(a[::-1])\n",
    "print(a)\n",
    "a.reverse()\n",
    "print(a)"
   ]
  },
  {
   "cell_type": "code",
   "execution_count": 45,
   "id": "bf9e9524-8c30-427f-99fa-22ac7358d692",
   "metadata": {},
   "outputs": [
    {
     "name": "stdout",
     "output_type": "stream",
     "text": [
      "(8, 4)\n",
      "8\n",
      "4\n"
     ]
    }
   ],
   "source": [
    "#元组,不支持增删改，其余和list一致\n",
    "def f(x):\n",
    "    return x**3,x**2\n",
    "print(f(2))\n",
    "a,b=f(2)\n",
    "print(a)\n",
    "print(b)"
   ]
  },
  {
   "cell_type": "code",
   "execution_count": 60,
   "id": "3ec3600d-3c04-44e3-83e2-d2b3864ba549",
   "metadata": {},
   "outputs": [
    {
     "name": "stdout",
     "output_type": "stream",
     "text": [
      "Jack\n",
      "{1: 'Jack', 2: 'Rose', 3: 'Mary'}\n"
     ]
    },
    {
     "data": {
      "text/plain": [
       "{2: 'Rose'}"
      ]
     },
     "execution_count": 60,
     "metadata": {},
     "output_type": "execute_result"
    }
   ],
   "source": [
    "#字典,键不可重复且不可变\n",
    "stu={1:\"Jack\",2:\"Rose\"}\n",
    "print(stu[1])\n",
    "stu[3]=\"Mary\"\n",
    "print(stu)\n",
    "del stu[3]#两种删除方法\n",
    "stu.pop(1)\n",
    "stu"
   ]
  },
  {
   "cell_type": "code",
   "execution_count": 59,
   "id": "56417974-186d-4a48-b2a1-2fa0a237985e",
   "metadata": {},
   "outputs": [
    {
     "name": "stdout",
     "output_type": "stream",
     "text": [
      "2 Rose\n"
     ]
    },
    {
     "data": {
      "text/plain": [
       "{1: 'Jack'}"
      ]
     },
     "execution_count": 59,
     "metadata": {},
     "output_type": "execute_result"
    }
   ],
   "source": [
    "stu={1:\"Jack\",2:\"Rose\"}\n",
    "a,b=stu.popitem()\n",
    "print(a,b)\n",
    "stu"
   ]
  },
  {
   "cell_type": "code",
   "execution_count": 79,
   "id": "b859adb0-f263-4da5-85d5-b33ca3fb13ca",
   "metadata": {},
   "outputs": [
    {
     "name": "stdout",
     "output_type": "stream",
     "text": [
      "{'a': 5, 'b': 3, 'c': 2}\n",
      "['a', 'b', 'c']\n",
      "[5, 3, 2]\n",
      "a 5\n",
      "b 3\n",
      "c 2\n"
     ]
    }
   ],
   "source": [
    "s=\"aaababccba\"\n",
    "d={}\n",
    "for i in s:\n",
    "    d[i]=d.get(i,0)+1#如果有i则使用key对应的值否则使用0\n",
    "print(d)\n",
    "a=list(d.keys())\n",
    "print(a)\n",
    "b=list(d.values())\n",
    "print(b)\n",
    "for k,v in d.items():\n",
    "    print(k,v)"
   ]
  },
  {
   "cell_type": "code",
   "execution_count": 86,
   "id": "e2ba6353-b6b4-46aa-bfe3-127b266eae8b",
   "metadata": {},
   "outputs": [
    {
     "name": "stdout",
     "output_type": "stream",
     "text": [
      "{4, 5}\n",
      "{1, 2, 3, 4, 5, 6, 7, 8}\n",
      "{1, 2, 3, 6, 7, 8}\n",
      "{1, 2, 3}\n"
     ]
    }
   ],
   "source": [
    "#集合\n",
    "num1={1,2,3,4,5}\n",
    "num2={4,5,6,7,8}\n",
    "print(num1&num2)\n",
    "print(num1|num2)\n",
    "print(num1^num2)#异或\n",
    "print(num1-num2)"
   ]
  },
  {
   "cell_type": "code",
   "execution_count": null,
   "id": "277dd0cd-0847-4767-812c-1c959764e45f",
   "metadata": {},
   "outputs": [],
   "source": []
  }
 ],
 "metadata": {
  "kernelspec": {
   "display_name": "Python 3 (ipykernel)",
   "language": "python",
   "name": "python3"
  },
  "language_info": {
   "codemirror_mode": {
    "name": "ipython",
    "version": 3
   },
   "file_extension": ".py",
   "mimetype": "text/x-python",
   "name": "python",
   "nbconvert_exporter": "python",
   "pygments_lexer": "ipython3",
   "version": "3.11.7"
  }
 },
 "nbformat": 4,
 "nbformat_minor": 5
}
